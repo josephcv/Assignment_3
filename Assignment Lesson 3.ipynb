{
 "cells": [
  {
   "cell_type": "code",
   "execution_count": 32,
   "metadata": {},
   "outputs": [
    {
     "name": "stdout",
     "output_type": "stream",
     "text": [
      "Enter a few numbers to reduce :34,45,56,78\n"
     ]
    },
    {
     "data": {
      "text/plain": [
       "('The reduced value is=', 213)"
      ]
     },
     "execution_count": 32,
     "metadata": {},
     "output_type": "execute_result"
    }
   ],
   "source": [
    "# Problem 1 - Create a myreduce function\n",
    "\n",
    "def myreduce(list):\n",
    "    l=list.split(',')\n",
    "    sum=0\n",
    "    for n in l:\n",
    "        sum=sum + int(n)\n",
    "    return(\"The reduced value is=\",sum)\n",
    "\n",
    "\n",
    "myreduce(input('Enter a few numbers to reduce :'))"
   ]
  },
  {
   "cell_type": "code",
   "execution_count": 45,
   "metadata": {},
   "outputs": [
    {
     "name": "stdout",
     "output_type": "stream",
     "text": [
      "Enter some numbers:2,3,4,5\n",
      "Choose b/w odd or even:even\n"
     ]
    },
    {
     "data": {
      "text/plain": [
       "('The', 'even', 'series is', ['2', '4'])"
      ]
     },
     "execution_count": 45,
     "metadata": {},
     "output_type": "execute_result"
    }
   ],
   "source": [
    "# Probelem 1.1 - create myfilter function\n",
    "\n",
    "def myfilter(lst, cond):\n",
    "    l=lst.split(',')\n",
    "    b=cond\n",
    "    op=[]\n",
    "    for x in l:\n",
    "        if cond==\"odd\":\n",
    "            if int(x)%2 !=0:\n",
    "                op.append(x)\n",
    "        elif cond== \"even\":\n",
    "            if int(x)%2 == 0:\n",
    "                op.append(x)\n",
    "    return('The',b, \"series is\",op)\n",
    "\n",
    "myfilter(input(\"Enter some numbers:\"),input(\"Choose b/w odd or even:\"))\n"
   ]
  },
  {
   "cell_type": "code",
   "execution_count": 6,
   "metadata": {},
   "outputs": [
    {
     "data": {
      "text/plain": [
       "['A', 'C', 'A', 'D', 'G', 'I', 'L', 'D']"
      ]
     },
     "execution_count": 6,
     "metadata": {},
     "output_type": "execute_result"
    }
   ],
   "source": [
    "# Problem 2 - list comprehension\n",
    "# First problem statement['A', 'C', 'A', 'D', 'G', 'I', ’L’, ‘ D’]\n",
    "[i for i in 'ACADGILD']"
   ]
  },
  {
   "cell_type": "code",
   "execution_count": 1,
   "metadata": {},
   "outputs": [
    {
     "data": {
      "text/plain": [
       "['X', 'XX', 'XXX', 'XXXX', 'Y', 'YY', 'YYY', 'YYYY', 'Z', 'ZZ', 'ZZZ', 'ZZZZ']"
      ]
     },
     "execution_count": 1,
     "metadata": {},
     "output_type": "execute_result"
    }
   ],
   "source": [
    "#Second problem statement ['x', 'xx', 'xxx', 'xxxx', 'y', 'yy', 'yyy', 'yyyy', 'z', 'zz', 'zzz', 'zzzz']\n",
    "[i*x for i in 'XYZ' for x in range(1,5)]\n"
   ]
  },
  {
   "cell_type": "code",
   "execution_count": 2,
   "metadata": {
    "scrolled": true
   },
   "outputs": [
    {
     "data": {
      "text/plain": [
       "['x', 'y', 'z', 'xx', 'yy', 'zz', 'xxx', 'yyy', 'zzz', 'xxxx', 'yyyy', 'zzzz']"
      ]
     },
     "execution_count": 2,
     "metadata": {},
     "output_type": "execute_result"
    }
   ],
   "source": [
    "# Third problem statement['x', 'y', 'z', 'xx', 'yy', 'zz', 'xx', 'yy', 'zz', 'xxxx', 'yyyy', 'zzzz']\n",
    "[i*x for x in range(1,5) for i in 'xyz']"
   ]
  },
  {
   "cell_type": "code",
   "execution_count": 3,
   "metadata": {},
   "outputs": [
    {
     "data": {
      "text/plain": [
       "[[2], [3], [4], [3], [4], [5], [4], [5], [6]]"
      ]
     },
     "execution_count": 3,
     "metadata": {},
     "output_type": "execute_result"
    }
   ],
   "source": [
    "#Fourth problem statement [[2], [3], [4], [3], [4], [5], [4], [5], [6]]\n",
    "[ [a+b] for a in range(1,4)  for b in range(1,4)]"
   ]
  },
  {
   "cell_type": "code",
   "execution_count": 4,
   "metadata": {},
   "outputs": [
    {
     "data": {
      "text/plain": [
       "[[2, 3, 4, 5], [3, 4, 5, 6], [4, 5, 6, 7], [5, 6, 7, 8]]"
      ]
     },
     "execution_count": 4,
     "metadata": {},
     "output_type": "execute_result"
    }
   ],
   "source": [
    "#Fifth problem statement [[2, 3, 4, 5], [3, 4, 5, 6], [4, 5, 6, 7], [5, 6, 7, 8]]\n",
    "[ [a+b for a in range(1,5)] for b in range(1,5)]"
   ]
  },
  {
   "cell_type": "code",
   "execution_count": 5,
   "metadata": {},
   "outputs": [
    {
     "data": {
      "text/plain": [
       "[(1, 1), (1, 2), (1, 3), (2, 1), (2, 2), (2, 3), (3, 1), (3, 2), (3, 3)]"
      ]
     },
     "execution_count": 5,
     "metadata": {},
     "output_type": "execute_result"
    }
   ],
   "source": [
    "#Sixth problem statement [(1, 1), (2, 1), (3, 1), (1, 2), (2, 2), (3, 2), (1, 3), (2, 3), (3, 3)]\n",
    "[(a,b) for a in range(1,4) for b in range(1,4)]"
   ]
  },
  {
   "cell_type": "code",
   "execution_count": 109,
   "metadata": {},
   "outputs": [
    {
     "name": "stdout",
     "output_type": "stream",
     "text": [
      "Enter some words separated by comma's:what,when,biggest,test\n"
     ]
    },
    {
     "data": {
      "text/plain": [
       "('The longest word is', 'biggest')"
      ]
     },
     "execution_count": 109,
     "metadata": {},
     "output_type": "execute_result"
    }
   ],
   "source": [
    "def longestword(lst):\n",
    "    l=lst.split(',')\n",
    "    c=len(l[0])\n",
    "    for i in l:\n",
    "        d=len(i)\n",
    "        if d>c:\n",
    "            c=d\n",
    "            lw=i\n",
    "    return('The longest word is',lw)\n",
    "\n",
    "longestword(input(\"Enter some words separated by comma:\"))\n",
    "    "
   ]
  },
  {
   "cell_type": "code",
   "execution_count": null,
   "metadata": {
    "collapsed": true
   },
   "outputs": [],
   "source": []
  }
 ],
 "metadata": {
  "kernelspec": {
   "display_name": "Python 3",
   "language": "python",
   "name": "python3"
  },
  "language_info": {
   "codemirror_mode": {
    "name": "ipython",
    "version": 3
   },
   "file_extension": ".py",
   "mimetype": "text/x-python",
   "name": "python",
   "nbconvert_exporter": "python",
   "pygments_lexer": "ipython3",
   "version": "3.6.3"
  }
 },
 "nbformat": 4,
 "nbformat_minor": 2
}
